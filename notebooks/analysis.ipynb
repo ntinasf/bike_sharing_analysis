{
 "cells": [
  {
   "cell_type": "code",
   "execution_count": 1,
   "metadata": {},
   "outputs": [],
   "source": [
    "import pandas as pd\n",
    "import numpy as np\n",
    "import pandas_gbq\n",
    "from google.oauth2 import service_account\n",
    "from statsmodels.stats.weightstats import ttest_ind\n",
    "from scipy import stats"
   ]
  },
  {
   "cell_type": "code",
   "execution_count": null,
   "metadata": {},
   "outputs": [],
   "source": [
    "credentials = service_account.Credentials.from_service_account_file('key.json') # Path tou your key"
   ]
  },
  {
   "cell_type": "code",
   "execution_count": null,
   "metadata": {},
   "outputs": [],
   "source": [
    "# Draw a sample of 25000 members\n",
    "sql_member = \"\"\"\n",
    "  SELECT *\n",
    "  FROM bike_rides.fact_rides\n",
    "  WHERE member_casual = 'member'\n",
    "  ORDER BY RAND()\n",
    "  LIMIT 25000\n",
    "\"\"\"\n",
    "sample_member = pandas_gbq.read_gbq(sql_member, project_id=\"bike_sharing\", credentials=credentials, dialect=\"standard\")"
   ]
  },
  {
   "cell_type": "code",
   "execution_count": null,
   "metadata": {},
   "outputs": [],
   "source": [
    "# Draw a sample of 25000 casuals\n",
    "sql_casual = \"\"\"\n",
    "  SELECT *\n",
    "  FROM bike_rides.fact_rides\n",
    "  WHERE member_casual = 'casual'\n",
    "  ORDER BY RAND()\n",
    "  LIMIT 25000\n",
    "\"\"\"\n",
    "sample_casual = pandas_gbq.read_gbq(sql_casual, project_id=\"bike_sharing\", credentials=credentials, dialect=\"standard\")"
   ]
  },
  {
   "cell_type": "markdown",
   "metadata": {},
   "source": [
    "## Introduction\n",
    "This analysis explores the behavioral differences between annual members and casual riders in a bike-sharing service, with the goal of identifying effective strategies to convert casual riders into long-term members. By understanding how these two user groups differ in their riding patterns, we can uncover valuable insights to drive business growth through targeted conversion initiatives."
   ]
  },
  {
   "cell_type": "markdown",
   "metadata": {},
   "source": [
    "## Dataset Overview\n",
    "\n",
    "This analysis examines **5,607,186 bike rides** from the city of Chicago during 2024. The dataset captures basic ride information including timestamps, locations, durations, bike and rider types.\n",
    "\n",
    "**Key Dataset Characteristics:**\n",
    "- **Timeframe:** 1/1/2024 to 12/31/2024\n",
    "- **User Composition:** 63.46% member rides (3,558,470), 36.54% casual rides (2,048,716)\n",
    "- **Geographic Coverage:** 1,343 stations across Chicago\n",
    "- **Bike Types:** Electric bikes (50.11%), classic bikes (47.51%), electric scooters (2.38%)\n",
    "\n",
    "> **Note:** For analytic clarity, rides shorter than 2 minutes or longer than 10 hours (representing approximately 4.2% of the original data) were excluded as they likely represent system errors rather than actual customer behavior."
   ]
  },
  {
   "cell_type": "markdown",
   "metadata": {},
   "source": [
    "<hr>"
   ]
  },
  {
   "cell_type": "markdown",
   "metadata": {},
   "source": [
    "## Temporal Analysis: When They Ride\n",
    "\n",
    "Understanding *when* members and casual riders use the bike-sharing service reveals fundamental differences in their usage patterns and helps identify potential conversion opportunities. Let's examine how ridership varies across different time scales, starting with monthly patterns.\n",
    "\n",
    "### Monthly Ridership Patterns\n",
    "\n",
    "<img src=\"../images/by_month.png\" alt=\"monthly_dist\" width=\"1000\" height=\"600\">\n",
    "\n",
    "**Key Observations:**\n",
    "- Both member and casual rides follow similar seasonal patterns, peaking in summer months and declining during winter\n",
    "- Member ridership consistently outpaces casual ridership across all months\n",
    "- The gap between the two widens mostly during October and November\n",
    "- The similar seasonal pattern suggests that weather and season affect both user groups similarly"
   ]
  },
  {
   "cell_type": "markdown",
   "metadata": {},
   "source": [
    "### Weekly Ridership Patterns\n",
    "\n",
    " Now let's see how ridership varies throughout the week. This reveals one of the most significant behavioral differences between member and casual riders.\n",
    "\n",
    " <img src=\"../images/by_day.png\" alt=\"monthly_dist\" width=\"1000\" height=\"600\">\n",
    "\n",
    " **Key Observations:**\n",
    "- Members show consistently higher usage on weekdays, with peaks on Tuesday, Wednesday and Thursday\n",
    "- Casual riders show dramatically higher usage on weekends, particularly on Saturdays\n",
    "- During the weekend the two groups approach each other\n",
    "- The greatest disparity occurs midweek (Tuesday-Thursday) when member rides are more than double from casual rides"
   ]
  },
  {
   "cell_type": "markdown",
   "metadata": {},
   "source": [
    "Let's statistically validate this weekday/weekend usage pattern difference using a chi-square test of independence:\n",
    "\n",
    "QUESTION:\n",
    "Is there an association between rider type and day type (weekday/weekend)?\n",
    "\n",
    "NULL HYPOTHESIS (H₀):\n",
    "There is no association between rider type and day of week usage.\n",
    "The variables are independent.\n",
    "\n",
    "ALTERNATIVE HYPOTHESIS (H₁):\n",
    "There is an association between rider type and day of week usage.\n",
    "The variables are dependent.\n",
    "\n",
    "SIGNIFICANCE LEVEL: α = 0.01"
   ]
  },
  {
   "cell_type": "code",
   "execution_count": null,
   "metadata": {},
   "outputs": [
    {
     "name": "stdout",
     "output_type": "stream",
     "text": [
      "\n",
      "Contingency Table:\n",
      "\n",
      "day_type       weekday  weekend\n",
      "member_casual                  \n",
      "casual           15615     9385\n",
      "member           18970     6030\n",
      "\n",
      "Chi-square Test for Independence:\n",
      "Chi-square statistic: 1055.0300\n",
      "p-value: 0.00000000\n",
      "Degrees of freedom: 1\n",
      "\n",
      "DECISION: Reject the null hypothesis\n"
     ]
    }
   ],
   "source": [
    "ALPHA = 0.01\n",
    "\n",
    "# Create a new day_type collumn to diffeerentiate between weekend and weekday\n",
    "sample_casual[\"date\"] = pd.to_datetime(sample_casual[\"date\"])\n",
    "sample_casual[\"day_of_week\"] = sample_casual[\"date\"].dt.dayofweek\n",
    "sample_member[\"date\"] = pd.to_datetime(sample_member[\"date\"])\n",
    "sample_member[\"day_of_week\"] = sample_member[\"date\"].dt.dayofweek\n",
    "\n",
    "weekend_index = np.array([5,6])\n",
    "\n",
    "sample_casual[\"day_type\"] = np.where(sample_casual[\"day_of_week\"].isin(weekend_index), \"weekend\", \"weekday\")\n",
    "sample_member[\"day_type\"] = np.where(sample_member[\"day_of_week\"].isin(weekend_index), \"weekend\", \"weekday\")\n",
    "\n",
    "# Concatenate the two samples into one\n",
    "unified_sample = pd.concat([sample_member, sample_casual])\n",
    "\n",
    "# Perform chi-square test\n",
    "contingency_table = pd.crosstab(unified_sample['member_casual'], unified_sample['day_type'])\n",
    "print(\"\\nContingency Table:\\n\")\n",
    "print(contingency_table)\n",
    "\n",
    "chi2, p_value, dof, expected = stats.chi2_contingency(contingency_table)\n",
    "print(\"\\nChi-square Test for Independence:\")\n",
    "print(f\"Chi-square statistic: {chi2:.4f}\")\n",
    "print(f\"p-value: {p:.8f}\")\n",
    "print(f\"Degrees of freedom: {dof}\")\n",
    "\n",
    "if p_value < ALPHA:\n",
    "    print(f\"\\nDECISION: Reject the null hypothesis\")\n",
    "else:\n",
    "    print(f\"\\nDECISION: Fail to reject the null hypothesis\")"
   ]
  },
  {
   "cell_type": "markdown",
   "metadata": {},
   "source": [
    "Statistical Findings:\n",
    "\n",
    "- There is a statistically significant association between rider type and day of week (p < 0.001).  \n",
    "- Members are significantly overrepresented on weekdays and underrepresented on weekends.  \n",
    "- Casual riders show the opposite pattern, with significant overrepresentation on weekends.  \n",
    "\n",
    "**Comments:**\n",
    "\n",
    "- This pattern strongly suggests members use bikes for regular commuting, while casual riders mainly use the service for recreational purposes  \n",
    "- Weekend casual riders represent a distinct segment with different needs than weekday users  \n",
    "- Conversion strategies could target frequent weekend casual riders with weekend-focused membership options  "
   ]
  },
  {
   "cell_type": "markdown",
   "metadata": {},
   "source": [
    "### Hourly Usage Patterns\n",
    "\n",
    "After examining weekly trends, a deeper look at hourly patterns reveals perhaps the most telling difference between member and casual riders.\n",
    "\n",
    "\n",
    "<img src=\"../images/hour_dist.png\" alt=\"hour_dist\" width=\"1000\" height=\"600\">\n",
    "\n",
    "**Key Observations:**\n",
    "- Member rides show a distinctive, bimodal distribution with sharp peaks during the morning (8-9AM) and evening (5-6PM)  \n",
    "- Casual rides follow a unimodal distribution that gradually builds throughout the day, peaking also in the evening (5-6AM)  \n",
    "- The morning commute peak is almost exclusively driven by members, with casual ridership notably lower during these hours\n",
    "\n",
    "Let's examine how these patterns vary between weekdays and weekends:\n",
    "\n",
    "<img src=\"../images/hour_dist_weekday.png\" alt=\"hour_dist_weekday\" width=\"1000\" height=\"600\">\n",
    "\n",
    "<img src=\"../images/hour_dist_weekend.png\" alt=\"hour_dist_weekend\" width=\"1000\" height=\"600\">\n",
    "\n",
    "- On weekdays, member riding patterns strongly indicate commuting behavior with pronounced morning and evening peaks\n",
    "- On weekends, both member and casual riders follow similar unimodal patterns centered around midday\n",
    "- The stark difference between weekday and weekend patterns for members suggests different use cases (commuting vs. leisure)\n",
    "- Casual riding patterns remain relatively consistent between weekdays and weekends, with only timing shifts (peak lasts longer, 1-5PM)"
   ]
  },
  {
   "cell_type": "markdown",
   "metadata": {},
   "source": [
    "To validate these observed differences statistically, we can apply the Kolmogorov-Smirnov test, which evaluates whether two samples come from the same distribution:  \n",
    "\n",
    "QUESTION:  \n",
    "Do member and casual riders exhibit different hourly usage patterns throughout the day?\n",
    "\n",
    "NULL HYPOTHESIS (H₀):  \n",
    "The hourly distribution of bike rides follows the same pattern for both member and casual riders.  \n",
    "Mathematically: F₁(x) = F₂(x) for all hours x, where F represents the cumulative distribution function.  \n",
    "\n",
    "ALTERNATIVE HYPOTHESIS (H₁):  \n",
    "The hourly distribution of bike rides follows different patterns for member and casual riders.  \n",
    "Mathematically: F₁(x) ≠ F₂(x) for at least one hour x.  \n",
    "\n",
    "SIGNIFICANCE LEVEL: α = 0.01"
   ]
  },
  {
   "cell_type": "code",
   "execution_count": null,
   "metadata": {},
   "outputs": [
    {
     "name": "stdout",
     "output_type": "stream",
     "text": [
      "\n",
      "Kolmogorov-Smirnov Test Results:\n",
      "KS Statistic: 0.0692\n",
      "p-value: 0.00000000\n",
      "\n",
      "DECISION: Reject the null hypothesis\n",
      "\n",
      "Hours with largest differences between member and casual usage:\n",
      "Hour 8: Member: 6.8%, Casual: 3.4% (Diff: 3.4%)\n",
      "Hour 7: Member: 5.2%, Casual: 2.5% (Diff: 2.8%)\n",
      "Hour 14: Member: 5.7%, Casual: 7.3% (Diff: 1.6%)\n"
     ]
    }
   ],
   "source": [
    "# extract the hour number from start_time column\n",
    "member_hours = sample_member[\"start_time\"].apply(lambda x: x.hour)\n",
    "casual_hours = sample_casual[\"start_time\"].apply(lambda x: x.hour)\n",
    "\n",
    "# Perform Kolmogorov-Smirnov test\n",
    "ks_statistic, p_value = stats.ks_2samp(member_hours, casual_hours)\n",
    "print(f\"\\nKolmogorov-Smirnov Test Results:\")\n",
    "print(f\"KS Statistic: {ks_statistic:.4f}\")\n",
    "print(f\"p-value: {p_value:.8f}\")\n",
    "\n",
    "if p_value < ALPHA:\n",
    "    print(f\"\\nDECISION: Reject the null hypothesis\")\n",
    "else:\n",
    "    print(f\"\\nDECISION: Fail to reject the null hypothesis\")\n",
    "\n",
    "# Calculate hours with largest differences\n",
    "member_counts = member_hours.value_counts(normalize=True).sort_index()\n",
    "casual_counts = casual_hours.value_counts(normalize=True).sort_index()\n",
    "diff = {idx: abs(member_counts.get(idx, 0) - casual_counts.get(idx, 0)) for idx in range(24)}\n",
    "top_hours = sorted(diff.items(), key=lambda x: x[1], reverse=True)[:3]\n",
    "print(\"\\nHours with largest differences between member and casual usage:\")\n",
    "for hour, diff_val in top_hours:\n",
    "    member_pct = member_counts.get(hour, 0) * 100\n",
    "    casual_pct = casual_counts.get(hour, 0) * 100\n",
    "    print(f\"Hour {hour}: Member: {member_pct:.1f}%, Casual: {casual_pct:.1f}% (Diff: {diff_val*100:.1f}%)\")"
   ]
  },
  {
   "cell_type": "markdown",
   "metadata": {},
   "source": [
    "Statistical Findings:\n",
    "\n",
    "- The Kolmogorov-Smirnov test confirms a significant difference between member and casual hourly distributions (p < 0.001)  \n",
    "- The greatest differences occur during morning commute hours (7-9AM) and midday hours (2-3PM)"
   ]
  },
  {
   "cell_type": "markdown",
   "metadata": {},
   "source": [
    "**Comments:**\n",
    "- This hourly usage analysis provides strong evidence that members and casual riders have fundamentally different use cases for the bike-sharing service  \n",
    "- A small but potentially valuable segment appears: casual riders who use bikes during 8-9AM and 5-6AM on weekdays. These users already exhibit member-like behavior and may be most receptive to membership conversion efforts."
   ]
  },
  {
   "cell_type": "markdown",
   "metadata": {},
   "source": [
    "<hr>"
   ]
  },
  {
   "cell_type": "markdown",
   "metadata": {},
   "source": [
    "## Behavioral Analysis: How They Ride\n",
    "\n",
    "After understanding when members and casual riders use the service, let's examine how they use it - specifically looking at ride durations and equipment preferences.\n",
    "\n",
    "### Ride Duration Analysis\n",
    "\n",
    "The duration of rides represents one of the most significant behavioral differences between member and casual riders.\n",
    "\n",
    "<img src=\"../images/durations.png\" alt=\"durations\" width=\"1000\" height=\"600\">\n",
    "\n",
    "**Key Observations**  \n",
    "- Casual riders take longer trips than members (median ~13 minutes vs. ~9 minutes)  \n",
    "- The interquartile range for casual riders is much wider, indicating greater variability in trip length  \n",
    "- Casual riders show longer durations across all bike types, with the difference most pronounced for classic bikes   \n",
    "\n",
    "Let's examine how these patterns change between weekdays:\n",
    "\n",
    "<img src=\"../images/weekday_dur.png\" alt=\"weekday_dur\" width=\"1000\" height=\"600\">\n",
    "\n",
    "And weekends:  \n",
    "\n",
    "<img src=\"../images/dur_weekend.png\" alt=\"dur_weekend\" width=\"1000\" height=\"600\">\n",
    "\n",
    "- The duration gap persists in both time periods \n",
    "- Weekend rides last longer and show higher variability for both groups  \n",
    "- The member ratio differs significantly - members represent 68% of weekday rides but only 52% of weekend rides  \n",
    "- Classic bikes show the largest duration gap in both periods  "
   ]
  },
  {
   "cell_type": "markdown",
   "metadata": {},
   "source": [
    "Let's statistically validate the observed difference in ride durations:  \n",
    "\n",
    "QUESTION:  \n",
    "Do casual riders take significantly longer trips than members, with the difference exceeding 8 minutes?  \n",
    "\n",
    "NULL HYPOTHESIS (H₀):  \n",
    "The mean ride duration of casuals' rider is less than or equal to 8 minutes than members' rides.  \n",
    "Mathematically: μ_casual - μ_member ≤ 8 minutes  \n",
    "\n",
    "ALTERNATIVE HYPOTHESIS (H₁):  \n",
    "The mean ride duration for casuals' rider is more than 8 minutes than members' rides.  \n",
    "Mathematically: μ_casual - μ_member > 8 minutes  \n",
    "\n",
    "SIGNIFICANCE LEVEL: α = 0.01"
   ]
  },
  {
   "cell_type": "code",
   "execution_count": 19,
   "metadata": {},
   "outputs": [
    {
     "name": "stdout",
     "output_type": "stream",
     "text": [
      "Casuals variance is more than 3.0 times bigger\n"
     ]
    }
   ],
   "source": [
    "# Compare the sample variances\n",
    "var_ratio = np.floor(sample_casual['ride_duration_min'].var() / sample_member['ride_duration_min'].var())\n",
    "print(f\"Casuals variance is more than {var_ratio} times bigger\")"
   ]
  },
  {
   "cell_type": "code",
   "execution_count": 12,
   "metadata": {},
   "outputs": [
    {
     "name": "stdout",
     "output_type": "stream",
     "text": [
      "Welch's t-test Results:\n",
      "t-statistic: 2.5578\n",
      "p-value: 0.00526889\n",
      "Degrees of freedom: 37593.7\n",
      "\n",
      "DECISION: Reject the null hypothesis\n",
      "\n",
      "Observed mean difference: 8.52 minutes\n"
     ]
    }
   ],
   "source": [
    "# Perform Welch's t-test (for unequal variances) with a threshold of 8 minutes\n",
    "t_stat, p_value, df = ttest_ind(sample_casual[\"ride_duration_min\"], \n",
    "                               sample_member[\"ride_duration_min\"], \n",
    "                               usevar=\"unequal\",    # Specifies Welch's t-test\n",
    "                               alternative=\"larger\", # One-sided test\n",
    "                               value=8)             # Testing difference > 8 minutes\n",
    "\n",
    "print(f\"Welch's t-test Results:\")\n",
    "print(f\"t-statistic: {t_stat:.4f}\")\n",
    "print(f\"p-value: {p_value:.8f}\")\n",
    "print(f\"Degrees of freedom: {df:.1f}\")\n",
    "\n",
    "if p_value < ALPHA:\n",
    "    print(f\"\\nDECISION: Reject the null hypothesis\")\n",
    "else:\n",
    "    print(f\"\\nDECISION: Fail to reject the null hypothesis\")\n",
    "\n",
    "# Calculate sample difference in means\n",
    "mean_diff = np.mean(sample_casual[\"ride_duration_min\"]) - np.mean(sample_member[\"ride_duration_min\"])\n",
    "print(f\"\\nObserved mean difference: {mean_diff:.2f} minutes\")"
   ]
  },
  {
   "cell_type": "markdown",
   "metadata": {},
   "source": [
    "Statistical Findings:\n",
    "\n",
    "- There is a statistically significant difference in ride durations beyond our 8-minute threshold (p < 0.01)\n",
    "- Casual riders take trips that are approximately 8.5 minutes longer than members on average\n",
    "\n",
    "**Comments:**\n",
    "\n",
    "- The consistent duration difference reinforces the idea that members primarily use bikes for practical transportation (shorter, purposeful trips), while casual riders use the service more for leisure and exploration (longer, less time-sensitive trips)\n",
    "- For leisure-focused casuals, we can emphasize on cost saving for longer rides\n"
   ]
  },
  {
   "cell_type": "markdown",
   "metadata": {},
   "source": [
    "### Bike Type Preferences\n",
    "\n",
    "Next, let's examine whether members and casual riders exhibit different preferences for bike types.\n",
    "\n",
    "<img src=\"../images/rideable.png\" alt=\"rideable\" width=\"800\" height=\"450\">\n",
    "\n",
    "**Key Observations:**\n",
    "\n",
    "- Both member and casual riders show remarkably similar preferences for bike types  \n",
    "- Electric bikes are slightly preferred over classic bikes by both groups (around 50%)  \n",
    "- From the previous graphs, we have that classic bike rides tend to last longer\n",
    "\n",
    "**Comments:**\n",
    "\n",
    "- Thiis similarity shows that, when and how long people ride are not driven by equipment choice"
   ]
  },
  {
   "cell_type": "markdown",
   "metadata": {},
   "source": [
    "<hr>"
   ]
  },
  {
   "cell_type": "markdown",
   "metadata": {},
   "source": [
    "## Spatial Analysis: Where They Ride\n",
    "\n",
    "After understanding when and how members and casual riders use the service, examining where they ride completes our comprehensive analysis and reveals critical geographic insights for targeted conversion strategies.\n",
    "\n",
    "### Geographic Usage Patterns\n",
    "\n",
    "The heat maps reveal the spatial distribution of member and casual rides across Chicago:\n",
    "\n",
    "<img src=\"../images/start_heat.png\" alt=\"start_heat\" width=\"900\" height=\"550\">\n",
    "\n",
    "<img src=\"../images/end_heat.png\" alt=\"end_heat\" width=\"900\" height=\"550\">\n",
    "\n",
    "**Key Observations:**  \n",
    "- Both user types show concentrated activity in downtown Chicago and along the lakefront  \n",
    "- The intensity patterns show subtle but important differences in neighborhood usage  \n",
    "- Member activity extends more broadly into residential neighborhoods  \n"
   ]
  },
  {
   "cell_type": "markdown",
   "metadata": {},
   "source": [
    "### Divergent Usage Areas\n",
    "\n",
    "Some areas show dramatically different usage patterns between the two rider types:\n",
    "\n",
    "<img src=\"../images/stations_vs.png\" alt=\"stations_vs\" width=\"800\" height=\"550\">\n",
    "\n",
    "**Key Observations:**\n",
    "\n",
    "- Left map: Concentrated along the lakefront, particularly near tourist attractions like Navy Pier, Millennium Park, and museum campuses  \n",
    "- Right map: More broadly distributed throughout residential neighborhoods and business districts, with strong presence in areas with higher population density and transit connections  \n",
    "\n",
    "**Comments:**\n",
    "- This geographic divergence reinforces our previous findings - members use bikes mainly for everyday transportation throughout the city, while casual riders concentrate in recreational and tourist areas."
   ]
  },
  {
   "cell_type": "markdown",
   "metadata": {},
   "source": [
    "### High-Potential Conversion Stations\n",
    "\n",
    "By analyzing stations with nearly equal member and casual usage, we can identify prime locations for targeted conversion efforts.\n",
    "\n",
    "**Station Selection Criteria:**\n",
    "\n",
    "- Member-to-casual ratio between 0.8 and 1.2 (similar usage patterns)  \n",
    "- High volume of casual rides (minimum 500+ casual rides)   \n",
    "\n",
    "<img src=\"../images/stations_keep.png\" alt=\"stations_keep\" width=\"1000\" height=\"600\">\n",
    "\n",
    "**Key Observations:**\n",
    "\n",
    "- High-volume conversion targets like Indiana Ave & Roosevelt Rd (11,631 casual rides) represent significant opportunities  \n",
    "- Many target stations are located at the intersection of recreational areas and residential/business districts  \n",
    "- Several stations are near universities and transit hubs \n",
    "\n",
    "**Comments:**\n",
    "\n",
    "- The geographic distribution allows for targeted marketing campaigns in specific neighborhoods \n",
    "- Station-based conversion campaigns could focus on these high-potential locations   \n",
    "- The identified conversion target stations represent the physical touchpoints where casual riders already exhibit behavior similar to members\n"
   ]
  },
  {
   "cell_type": "markdown",
   "metadata": {},
   "source": [
    "<hr>"
   ]
  },
  {
   "cell_type": "markdown",
   "metadata": {},
   "source": [
    "## Data-Driven Recommendations\n",
    "\n",
    "Based on the patterns identified in this analysis, the following opportunities exist for converting casual riders to annual members:\n",
    "\n",
    "1) **Weekend-Focused Membership Options:** Develop membership tiers that provide greater value for weekend usage patterns.  \n",
    "\n",
    "2) **Long Ride Incentives:** Casual riders take significantly longer trips than members. Consider pricing structures that reward longer rides to appeal to this demonstrated behavior.\n",
    "\n",
    "3) **Time Of Day Targetting:** Target the 12-3PM time block when casual ridership is at its highest relative to member ridership, as well as the specific segment of 8-9AM on weekdays.\n",
    "\n",
    "4) **High-Potential Station Clusters Prioritization:** Focus marketting efforts on the top stations with balanced member/casual ratios as they suggest areas with higher conversion potential.\n",
    "\n",
    "5) **Seasonal Conversion Timing:** Target conversion efforts during May-June period when casual ridership increases significantly compared to previous months, thus representing a high opportunity period.\n",
    "\n",
    "6) **Potential customer segments**: Keep an eye on casual riders using bikes during typical commute hours on weekdays, and weekend riders with consistent patterns of recreational use"
   ]
  }
 ],
 "metadata": {
  "kernelspec": {
   "display_name": "bikes",
   "language": "python",
   "name": "python3"
  },
  "language_info": {
   "codemirror_mode": {
    "name": "ipython",
    "version": 3
   },
   "file_extension": ".py",
   "mimetype": "text/x-python",
   "name": "python",
   "nbconvert_exporter": "python",
   "pygments_lexer": "ipython3",
   "version": "3.11.11"
  }
 },
 "nbformat": 4,
 "nbformat_minor": 2
}
