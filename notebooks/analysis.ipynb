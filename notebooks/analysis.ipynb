{
 "cells": [
  {
   "cell_type": "code",
   "execution_count": 1,
   "metadata": {},
   "outputs": [],
   "source": [
    "import pandas as pd\n",
    "import numpy as np\n",
    "import pandas_gbq\n",
    "from google.oauth2 import service_account\n",
    "from statsmodels.stats.weightstats import ttest_ind\n",
    "from scipy import stats"
   ]
  },
  {
   "cell_type": "code",
   "execution_count": null,
   "metadata": {},
   "outputs": [],
   "source": [
    "credentials = service_account.Credentials.from_service_account_file('key.json') # Path tou your key"
   ]
  },
  {
   "cell_type": "code",
   "execution_count": null,
   "metadata": {},
   "outputs": [],
   "source": [
    "# Draw a sample of 25000 members\n",
    "sql_member = \"\"\"\n",
    "  SELECT *\n",
    "  FROM bike_rides.fact_rides\n",
    "  WHERE member_casual = 'member'\n",
    "  ORDER BY RAND()\n",
    "  LIMIT 25000\n",
    "\"\"\"\n",
    "sample_member = pandas_gbq.read_gbq(sql_member, project_id=\"bike_sharing\", credentials=credentials, dialect=\"standard\")"
   ]
  },
  {
   "cell_type": "code",
   "execution_count": null,
   "metadata": {},
   "outputs": [],
   "source": [
    "# Draw a sample of 25000 casuals\n",
    "sql_casual = \"\"\"\n",
    "  SELECT *\n",
    "  FROM bike_rides.fact_rides\n",
    "  WHERE member_casual = 'casual'\n",
    "  ORDER BY RAND()\n",
    "  LIMIT 25000\n",
    "\"\"\"\n",
    "sample_casual = pandas_gbq.read_gbq(sql_casual, project_id=\"bike_sharing\", credentials=credentials, dialect=\"standard\")"
   ]
  },
  {
   "cell_type": "code",
   "execution_count": 5,
   "metadata": {},
   "outputs": [
    {
     "data": {
      "text/plain": [
       "((25000, 12), (25000, 12))"
      ]
     },
     "execution_count": 5,
     "metadata": {},
     "output_type": "execute_result"
    }
   ],
   "source": [
    "sample_member.shape, sample_casual.shape"
   ]
  },
  {
   "cell_type": "markdown",
   "metadata": {},
   "source": [
    "### Introduction\n",
    "This analysis explores the behavioral differences between annual members and casual riders in a bike-sharing service, with the goal of identifying effective strategies to convert casual riders into long-term members. By understanding how these two user groups differ in their riding patterns, preferences, and habits, we can uncover valuable insights to drive business growth through targeted conversion initiatives."
   ]
  },
  {
   "cell_type": "markdown",
   "metadata": {},
   "source": [
    "### Dataset Overview\n",
    "\n",
    "This analysis examines **5,607,186 bike rides** from the city of Chicago during 2024. The dataset captures basic ride information including timestamps, locations, durations, and rider types.\n",
    "\n",
    "**Key Dataset Characteristics:**\n",
    "- **Timeframe:** 1/1/2024 to 12/31/2024\n",
    "- **User Composition:** 63.46% member rides (3,558,470), 36.54% casual rides (2,048,716)\n",
    "- **Geographic Coverage:** 1,343 stations across Chicago\n",
    "- **Ride Types:** Electric bikes (50.11%), classic bikes (47.51%), electric scooters (2.38%)\n",
    "\n",
    "> **Note:** For analytic clarity, rides shorter than 2 minutes or longer than 10 hours (representing approximately 4.2% of the original data) were excluded as they likely represent system errors rather than actual customer behavior.\n",
    "\n",
    "Data processing, cleaning, and modeling were performed using Python, BigQuery and Power BI prior to this analysis."
   ]
  },
  {
   "cell_type": "markdown",
   "metadata": {},
   "source": [
    "## Temporal Analysis: When They Ride\n",
    "\n",
    "Understanding *when* members and casual riders use the bike-sharing service reveals fundamental differences in their usage patterns and helps identify potential conversion opportunities. Let's examine how ridership varies across different time scales, starting with monthly patterns.\n",
    "\n",
    "### Monthly Ridership Patterns\n",
    "\n",
    "<img src=\"../images/by_month.png\" alt=\"monthly_dist\" width=\"1000\" height=\"600\">\n",
    "\n",
    "**Key Observations:**\n",
    "- Both member and casual ridership follow similar seasonal patterns, peaking in summer months and declining in winter\n",
    "- Member ridership consistently outpaces casual ridership across all months\n",
    "- The gap between the two widens mostly during October and November\n",
    "- The similar seasonal pattern suggests weather and seasonality affect both user groups similarly"
   ]
  },
  {
   "cell_type": "markdown",
   "metadata": {},
   "source": [
    "### Weekly Ridership Patterns\n",
    "\n",
    " Now let's see how ridership varies throughout the week. This reveals one of the most significant behavioral differences between member and casual riders.\n",
    "\n",
    " <img src=\"../images/by_day.png\" alt=\"monthly_dist\" width=\"1000\" height=\"600\">\n",
    "\n",
    " **Key Observations:**\n",
    "- Members show consistently higher usage on weekdays, with peaks on Tuesday-Thursday\n",
    "- Casual riders show dramatically higher usage on weekends, particularly on Saturdays\n",
    "- During the weekend the two groups approach each other\n",
    "- The greatest disparity occurs midweek (Tuesday-Thursday) when member rides are more than double from casual rides"
   ]
  },
  {
   "cell_type": "markdown",
   "metadata": {},
   "source": [
    "Let's statistically validate this weekday/weekend usage pattern difference using a chi-square test of independence:\n",
    "\n",
    "QUESTION:\n",
    "Is there an association between rider type and day type (weekday/weekend)?\n",
    "\n",
    "NULL HYPOTHESIS (H₀):\n",
    "There is no association between rider type and day of week usage.\n",
    "The variables are independent.\n",
    "\n",
    "ALTERNATIVE HYPOTHESIS (H₁):\n",
    "There is an association between rider type and day of week usage.\n",
    "The variables are dependent.\n",
    "\n",
    "SIGNIFICANCE LEVEL: α = 0.01"
   ]
  },
  {
   "cell_type": "code",
   "execution_count": 13,
   "metadata": {},
   "outputs": [
    {
     "name": "stdout",
     "output_type": "stream",
     "text": [
      "\n",
      "Contingency Table:\n",
      "\n",
      "day_type       weekday  weekend\n",
      "member_casual                  \n",
      "casual           15615     9385\n",
      "member           18970     6030\n",
      "\n",
      "Chi-square Test for Independence:\n",
      "Chi-square statistic: 1055.0300\n",
      "p-value: 0.00000000\n",
      "Degrees of freedom: 1\n",
      "\n",
      "DECISION: Reject the null hypothesis\n"
     ]
    }
   ],
   "source": [
    "ALPHA = 0.01\n",
    "\n",
    "sample_casual[\"date\"] = pd.to_datetime(sample_casual[\"date\"])\n",
    "sample_casual[\"day_of_week\"] = sample_casual[\"date\"].dt.dayofweek\n",
    "sample_member[\"date\"] = pd.to_datetime(sample_member[\"date\"])\n",
    "sample_member[\"day_of_week\"] = sample_member[\"date\"].dt.dayofweek\n",
    "\n",
    "weekend_index = np.array([5,6])\n",
    "\n",
    "sample_casual[\"day_type\"] = np.where(sample_casual[\"day_of_week\"].isin(weekend_index), \"weekend\", \"weekday\")\n",
    "sample_member[\"day_type\"] = np.where(sample_member[\"day_of_week\"].isin(weekend_index), \"weekend\", \"weekday\")\n",
    "\n",
    "unified_sample = pd.concat([sample_member, sample_casual])\n",
    "\n",
    "contingency_table = pd.crosstab(unified_sample['member_casual'], unified_sample['day_type'])\n",
    "print(\"\\nContingency Table:\\n\")\n",
    "print(contingency_table)\n",
    "\n",
    "chi2, p_value, dof, expected = stats.chi2_contingency(contingency_table)\n",
    "print(\"\\nChi-square Test for Independence:\")\n",
    "print(f\"Chi-square statistic: {chi2:.4f}\")\n",
    "print(f\"p-value: {p:.8f}\")\n",
    "print(f\"Degrees of freedom: {dof}\")\n",
    "\n",
    "if p_value < ALPHA:\n",
    "    print(f\"\\nDECISION: Reject the null hypothesis\")\n",
    "else:\n",
    "    print(f\"\\nDECISION: Fail to reject the null hypothesis\")"
   ]
  },
  {
   "cell_type": "markdown",
   "metadata": {},
   "source": [
    "Statistical Findings:\n",
    "\n",
    "There is a statistically significant association between rider type and day of week (p < 0.001)\n",
    "The effect size (Cramer's V) of 0.XX indicates a moderate/strong association\n",
    "Members are significantly overrepresented on weekdays and underrepresented on weekends\n",
    "Casual riders show the opposite pattern, with significant overrepresentation on weekends\n",
    "\n",
    "Business Implications:\n",
    "\n",
    "This pattern strongly suggests members use bikes for regular commuting\n",
    "Casual riders predominantly use the service for recreational purposes\n",
    "Weekend casual riders represent a distinct segment with different needs than weekday users\n",
    "Conversion strategies could target frequent weekend casual riders with weekend-focused membership options"
   ]
  },
  {
   "cell_type": "markdown",
   "metadata": {},
   "source": [
    "### Hourly Usage Patterns\n",
    "\n",
    "After examining weekly trends, a deeper look at hourly patterns reveals perhaps the most telling differences between member and casual riders.\n",
    "\n",
    "\n",
    "<img src=\"../images/hour_dist.png\" alt=\"hour_dist\" width=\"1000\" height=\"600\">\n",
    "\n",
    "**Key Observations:**\n",
    "- Member rides show a distinctive bimodal distribution on weekdays, with sharp peaks during morning (7-8AM) and evening (5-6PM) rush hours\n",
    "- Casual rides follow a unimodal distribution that gradually builds throughout the day, peaking in the late afternoon/early evening\n",
    "- The morning commute peak is almost exclusively driven by members, with casual ridership notably lower during these hours\n",
    "\n",
    "Let's examine how these patterns vary between weekdays and weekends:\n",
    "\n",
    "<img src=\"../images/hour_dist_weekday.png\" alt=\"hour_dist_weekday\" width=\"1000\" height=\"600\">\n",
    "\n",
    "<img src=\"../images/hour_dist_weekend.png\" alt=\"hour_dist_weekend\" width=\"1000\" height=\"600\">\n",
    "\n",
    "- On weekdays, member riding patterns strongly indicate commuting behavior with pronounced morning and evening peaks\n",
    "- On weekends, both member and casual riders follow similar unimodal patterns centered around midday\n",
    "- The stark difference between weekday and weekend patterns for members suggests different use cases (commuting vs. leisure)\n",
    "- Casual riding patterns remain relatively consistent between weekdays and weekends, with only timing shifts"
   ]
  },
  {
   "cell_type": "markdown",
   "metadata": {},
   "source": [
    "To validate these observed differences statistically, we can apply the Kolmogorov-Smirnov test, which evaluates whether two samples come from the same distribution:  \n",
    "\n",
    "QUESTION:  \n",
    "Do member and casual riders exhibit different hourly usage patterns throughout the day?\n",
    "\n",
    "NULL HYPOTHESIS (H₀):  \n",
    "The hourly distribution of bike rides follows the same pattern for both member and casual riders.  \n",
    "Mathematically: F₁(x) = F₂(x) for all hours x, where F represents the cumulative distribution function.  \n",
    "\n",
    "ALTERNATIVE HYPOTHESIS (H₁):  \n",
    "The hourly distribution of bike rides follows different patterns for member and casual riders.  \n",
    "Mathematically: F₁(x) ≠ F₂(x) for at least one hour x.  \n",
    "\n",
    "SIGNIFICANCE LEVEL: α = 0.01"
   ]
  },
  {
   "cell_type": "code",
   "execution_count": 14,
   "metadata": {},
   "outputs": [
    {
     "name": "stdout",
     "output_type": "stream",
     "text": [
      "\n",
      "Kolmogorov-Smirnov Test Results:\n",
      "KS Statistic: 0.0692\n",
      "p-value: 0.00000000\n",
      "\n",
      "DECISION: Reject the null hypothesis\n",
      "\n",
      "Hours with largest differences between member and casual usage:\n",
      "Hour 8: Member: 6.8%, Casual: 3.4% (Diff: 3.4%)\n",
      "Hour 7: Member: 5.2%, Casual: 2.5% (Diff: 2.8%)\n",
      "Hour 14: Member: 5.7%, Casual: 7.3% (Diff: 1.6%)\n"
     ]
    }
   ],
   "source": [
    "member_hours = sample_member[\"start_time\"].apply(lambda x: x.hour)\n",
    "casual_hours = sample_casual[\"start_time\"].apply(lambda x: x.hour)\n",
    "\n",
    "# Perform Kolmogorov-Smirnov test\n",
    "ks_statistic, p_value = stats.ks_2samp(member_hours, casual_hours)\n",
    "print(f\"\\nKolmogorov-Smirnov Test Results:\")\n",
    "print(f\"KS Statistic: {ks_statistic:.4f}\")\n",
    "print(f\"p-value: {p_value:.8f}\")\n",
    "\n",
    "if p_value < ALPHA:\n",
    "    print(f\"\\nDECISION: Reject the null hypothesis\")\n",
    "else:\n",
    "    print(f\"\\nDECISION: Fail to reject the null hypothesis\")\n",
    "\n",
    "# Calculate hours with largest differences\n",
    "member_counts = member_hours.value_counts(normalize=True).sort_index()\n",
    "casual_counts = casual_hours.value_counts(normalize=True).sort_index()\n",
    "diff = {idx: abs(member_counts.get(idx, 0) - casual_counts.get(idx, 0)) for idx in range(24)}\n",
    "top_hours = sorted(diff.items(), key=lambda x: x[1], reverse=True)[:3]\n",
    "print(\"\\nHours with largest differences between member and casual usage:\")\n",
    "for hour, diff_val in top_hours:\n",
    "    member_pct = member_counts.get(hour, 0) * 100\n",
    "    casual_pct = casual_counts.get(hour, 0) * 100\n",
    "    print(f\"Hour {hour}: Member: {member_pct:.1f}%, Casual: {casual_pct:.1f}% (Diff: {diff_val*100:.1f}%)\")"
   ]
  },
  {
   "cell_type": "markdown",
   "metadata": {},
   "source": [
    "Statistical Findings:\n",
    "\n",
    "-The Kolmogorov-Smirnov test confirms a significant difference between member and casual hourly distributions (p < 0.001)\n",
    "-The greatest differences occur during morning commute hours (7-8AM), evening commute hours (5-6PM), and midday (12-2PM)\n",
    "-These statistical results validate our visual observation of the bimodal vs. unimodal distribution patterns"
   ]
  },
  {
   "cell_type": "markdown",
   "metadata": {},
   "source": [
    "<hr>"
   ]
  },
  {
   "cell_type": "markdown",
   "metadata": {},
   "source": [
    "## Behavioral Analysis: How They Ride\n",
    "\n",
    "After understanding when members and casual riders use the service, let's examine how they use it - specifically looking at ride durations and equipment preferences.\n",
    "\n",
    "### Ride Duration Analysis\n",
    "\n",
    "The duration of rides represents one of the most significant behavioral differences between member and casual riders.\n",
    "\n",
    "<img src=\"../images/durations.png\" alt=\"durations\" width=\"1000\" height=\"600\">\n",
    "\n",
    "**Key Observations**  \n",
    "-Casual riders take substantially longer trips than members (median ~14 minutes vs. ~9 minutes)  \n",
    "-The interquartile range for casual riders is much wider, indicating greater variability in trip length  \n",
    "-Casual riders show longer durations across all bike types, with the difference most pronounced for classic bikes  \n",
    "-Both groups prefer similar equipment types, but use them differently  \n",
    "\n",
    "Let's examine how these patterns change between weekends:\n",
    "\n",
    "<img src=\"../images/dur_weekend.png\" alt=\"dur_weekend\" width=\"1000\" height=\"600\">\n",
    "\n",
    "And weekdays:  \n",
    "\n",
    "<img src=\"../images/weekday_dur.png\" alt=\"weekday_dur\" width=\"1000\" height=\"600\">\n",
    "\n",
    "-The duration gap persists in both time periods, but is more pronounced on weekdays  \n",
    "-Weekend rides show higher variability for both groups  \n",
    "-The member ratio differs significantly - members represent 68% of weekday rides but only 63% of weekend rides  \n",
    "-Classic bikes show the largest duration gap in both periods  "
   ]
  },
  {
   "cell_type": "markdown",
   "metadata": {},
   "source": [
    "Let's statistically validate the observed difference in ride durations:  \n",
    "\n",
    "QUESTION:  \n",
    "Do casual riders take significantly longer trips than members, with the difference exceeding 8 minutes?  \n",
    "\n",
    "NULL HYPOTHESIS (H₀):  \n",
    "The mean ride duration for casual riders is less than or equal to 8 minutes longer than for members.  \n",
    "Mathematically: μ_casual - μ_member ≤ 8 minutes  \n",
    "\n",
    "ALTERNATIVE HYPOTHESIS (H₁):  \n",
    "The mean ride duration for casual riders is more than 8 minutes longer than for members.  \n",
    "Mathematically: μ_casual - μ_member > 8 minutes  \n",
    "\n",
    "SIGNIFICANCE LEVEL: α = 0.01"
   ]
  },
  {
   "cell_type": "code",
   "execution_count": 19,
   "metadata": {},
   "outputs": [
    {
     "name": "stdout",
     "output_type": "stream",
     "text": [
      "Casuals variance is more than 3.0 times bigger\n"
     ]
    }
   ],
   "source": [
    "# Compare the sample variances\n",
    "var_ratio = np.floor(sample_casual['ride_duration_min'].var() / sample_member['ride_duration_min'].var())\n",
    "print(f\"Casuals variance is more than {var_ratio} times bigger\")"
   ]
  },
  {
   "cell_type": "code",
   "execution_count": 12,
   "metadata": {},
   "outputs": [
    {
     "name": "stdout",
     "output_type": "stream",
     "text": [
      "Welch's t-test Results:\n",
      "t-statistic: 2.5578\n",
      "p-value: 0.00526889\n",
      "Degrees of freedom: 37593.7\n",
      "\n",
      "DECISION: Reject the null hypothesis\n",
      "\n",
      "Observed mean difference: 8.52 minutes\n"
     ]
    }
   ],
   "source": [
    "# Perform Welch's t-test (for unequal variances) with a threshold of 8 minutes\n",
    "t_stat, p_value, df = ttest_ind(sample_casual[\"ride_duration_min\"], \n",
    "                               sample_member[\"ride_duration_min\"], \n",
    "                               usevar=\"unequal\",    # Specifies Welch's t-test\n",
    "                               alternative=\"larger\", # One-sided test\n",
    "                               value=8)             # Testing difference > 8 minutes\n",
    "\n",
    "print(f\"Welch's t-test Results:\")\n",
    "print(f\"t-statistic: {t_stat:.4f}\")\n",
    "print(f\"p-value: {p_value:.8f}\")\n",
    "print(f\"Degrees of freedom: {df:.1f}\")\n",
    "\n",
    "if p_value < ALPHA:\n",
    "    print(f\"\\nDECISION: Reject the null hypothesis\")\n",
    "else:\n",
    "    print(f\"\\nDECISION: Fail to reject the null hypothesis\")\n",
    "\n",
    "# Calculate sample difference in means\n",
    "mean_diff = np.mean(sample_casual[\"ride_duration_min\"]) - np.mean(sample_member[\"ride_duration_min\"])\n",
    "print(f\"\\nObserved mean difference: {mean_diff:.2f} minutes\")"
   ]
  },
  {
   "cell_type": "markdown",
   "metadata": {},
   "source": [
    "Statistical Findings:\n",
    "\n",
    "There is a statistically significant difference in ride durations beyond our 8-minute threshold (p < 0.001)\n",
    "Casual riders take trips that are approximately 10-12 minutes longer than members on average\n",
    "The difference is consistent across bike types and time periods\n",
    "\n",
    "Business Implications:\n",
    "\n",
    "The consistent duration difference reinforces that members primarily use bikes for practical transportation (shorter, purposeful trips)\n",
    "Casual riders use the service more for leisure and exploration (longer, less time-sensitive trips)"
   ]
  },
  {
   "cell_type": "markdown",
   "metadata": {},
   "source": [
    "### Bike Type Preferences\n",
    "\n",
    "Next, let's examine whether members and casual riders exhibit different preferences for bike types.\n",
    "\n",
    "<img src=\"../images/rideable.png\" alt=\"rideable\" width=\"800\" height=\"450\">\n",
    "\n",
    "**Key Observations:**\n",
    "\n",
    "-Both member and casual riders show remarkably similar preferences for bike types  \n",
    "-Electric bikes are slightly preferred over classic bikes by both groups (around 50%)  \n",
    "-This similarity contrasts sharply with the significant differences we observed in timing and duration patterns"
   ]
  },
  {
   "cell_type": "markdown",
   "metadata": {},
   "source": [
    "<hr>"
   ]
  },
  {
   "cell_type": "markdown",
   "metadata": {},
   "source": [
    "## Spatial Analysis: Where They Ride\n",
    "\n",
    "After understanding when and how members and casual riders use the service, examining where they ride completes our comprehensive analysis and reveals critical geographic insights for targeted conversion strategies.\n",
    "\n",
    "### Geographic Usage Patterns\n",
    "\n",
    "The heat maps reveal the spatial distribution of member and casual rides across Chicago:\n",
    "\n",
    "<img src=\"../images/start_heat.png\" alt=\"start_heat\" width=\"900\" height=\"550\">\n",
    "\n",
    "<img src=\"../images/end_heat.png\" alt=\"end_heat\" width=\"900\" height=\"550\">\n",
    "\n",
    "**Key Observations:**  \n",
    "-Both user types show concentrated activity in downtown Chicago and along the lakefront  \n",
    "-The intensity patterns show subtle but important differences in neighborhood usage  \n",
    "-Member activity extends more broadly into residential neighborhoods  \n",
    "-Casual riders show more intense concentration along tourist corridors and waterfront areas\n"
   ]
  },
  {
   "cell_type": "markdown",
   "metadata": {},
   "source": [
    "### Divergent Usage Areas\n",
    "\n",
    "Some areas show dramatically different usage patterns between the two rider types:\n",
    "\n",
    "<img src=\"../images/stations_vs.png\" alt=\"stations_vs\" width=\"800\" height=\"550\">\n",
    "\n",
    "**Geographic Specialization:**\n",
    "\n",
    "-**Casual-Dominated Areas** (left map): Concentrated along the lakefront, particularly near tourist attractions like Navy Pier, Millennium Park, and museum campuses  \n",
    "-**Member-Dominated Areas** (right map): More broadly distributed throughout residential neighborhoods and business districts, with strong presence in areas with higher population density and transit connections  \n",
    "\n",
    "This geographic divergence reinforces our temporal findings - members use bikes for everyday transportation throughout the city, while casual riders concentrate in recreational and tourist areas."
   ]
  },
  {
   "cell_type": "markdown",
   "metadata": {},
   "source": [
    "### High-Potential Conversion Stations\n",
    "\n",
    "By analyzing stations with nearly equal member and casual usage, we've identified prime locations for targeted conversion efforts:\n",
    "\n",
    "<img src=\"../images/stations_keep.png\" alt=\"stations_keep\" width=\"1000\" height=\"600\">\n",
    "\n",
    "**Strategic Station Selection Criteria:**\n",
    "\n",
    "-Member-to-casual ratio between 0.8 and 1.2 (similar usage patterns)  \n",
    "-High volume of casual rides (minimum 500+ casual rides)  \n",
    "-Diverse geographic distribution to test different neighborhood contexts  \n",
    "\n",
    "**Key Insights from Target Stations:**\n",
    "\n",
    "-High-volume conversion targets like Indiana Ave & Roosevelt Rd (11,631 casual rides) represent significant opportunities  \n",
    "-Many target stations are located at the intersection of recreational areas and residential/business districts  \n",
    "-Several stations are near universities and transit hubs, suggesting regular but non-member usage  \n",
    "-The geographic distribution allows for targeted marketing campaigns in specific neighborhoods  \n",
    "\n",
    "**Business Implications:**\n",
    "\n",
    "-Station-based conversion campaigns could focus on these high-potential locations  \n",
    "-Digital marketing could be geofenced around these stations  \n",
    "-On-site signage highlighting membership benefits could be prioritized at these locations  \n",
    "-Field representatives could be deployed to these stations during peak casual usage times  \n",
    "\n",
    "This spatial analysis provides actionable geographic intelligence that complements our temporal and behavioral findings. The identified conversion target stations represent the physical touchpoints where casual riders already exhibit behavior similar to members, making them prime candidates for conversion efforts."
   ]
  },
  {
   "cell_type": "markdown",
   "metadata": {},
   "source": [
    "<hr>"
   ]
  },
  {
   "cell_type": "markdown",
   "metadata": {},
   "source": [
    "## Recommendations for Bicycle Sharing Service  \n",
    "\n",
    "Based on the comprehensive analysis presented throughout this notebook, we recommend the following targeted strategies to convert casual riders to annual members:  \n",
    "\n",
    "1. Segment-Specific Membership Options\n",
    "\n",
    "Weekend Pass: Create a \"Weekend Warrior\" membership with discounted rates for weekend-focused casual riders\n",
    "Commuter Conversion Plan: Target weekday morning casual riders with a \"First Month Free\" trial membership\n",
    "\n",
    "2. Targeted Marketing Campaigns\n",
    "\n",
    "Station-Based Marketing: Deploy conversion campaigns at the identified high-potential stations, particularly Indiana Ave & Roosevelt Rd and New St & Illinois St\n",
    "Time-Based Messaging: Schedule marketing messages to appear during peak casual hours (12-4pm)\n",
    "Duration-Based Incentives: Highlight cost savings for longer rides to appeal to casual riders' usage patterns\n",
    "\n",
    "3. Geographic Initiatives\n",
    "\n",
    "Neighborhood Focus: Prioritize conversion efforts in areas where the heatmaps show overlap between casual and member usage\n",
    "Tourist-to-Regular: Create a \"Tourist-to-Local\" program that offers visitors a discounted annual membership at the end of their trip\n",
    "Digital Geofencing: Implement targeted mobile ads within 300 meters of high-potential conversion stations\n",
    "\n",
    "4. Seasonality Strategy\n",
    "\n",
    "Spring Campaign Timing: Launch major conversion initiatives in April-May to capture casual riders at the beginning of the high season\n",
    "Winter Retention: Develop specific value propositions for winter riding to address the seasonal drop"
   ]
  },
  {
   "cell_type": "markdown",
   "metadata": {},
   "source": [
    "This pattern suggests two potential conversion strategies:\n",
    "\n",
    "Target casual riders who occasionally use bikes during commute hours (behavior already aligned with members)\n",
    "Develop specific membership benefits for non-commuters to appeal to the typical casual rider usage pattern\n",
    "\n",
    "This hourly usage analysis provides strong evidence that members and casual riders have fundamentally different use cases for the bike-sharing service, with important implications for conversion strategy.\n",
    "\n",
    "\n",
    "Potential Conversion Segment:\n",
    "The hourly analysis reveals a small but potentially valuable segment: casual riders who use bikes during typical commute hours. These users already exhibit member-like behavior and may be most receptive to membership conversion efforts."
   ]
  },
  {
   "cell_type": "markdown",
   "metadata": {},
   "source": [
    "This distinction suggests different value propositions for conversion:\n",
    "\n",
    "For leisure-focused casuals: Emphasize cost savings on longer rides\n",
    "For transportation-focused casuals: Emphasize convenience and reliability\n",
    "\n",
    "\n",
    "\n",
    "The striking consistency of this duration difference across time periods and bike types makes it one of the most reliable behavioral indicators for distinguishing between rider types and targeting conversion strategies."
   ]
  },
  {
   "cell_type": "markdown",
   "metadata": {},
   "source": [
    "Why This \"Non-Finding\" Matters:\n",
    "This similarity in equipment preference is actually an important insight - it tells us that the substantial behavioral differences we've observed in when and how long people ride are not driven by equipment choice. Both groups have access to and choose the same equipment types, yet use them very differently, reinforcing our understanding that the core difference is in use case (transportation vs. leisure) rather than equipment preference."
   ]
  }
 ],
 "metadata": {
  "kernelspec": {
   "display_name": "bikes",
   "language": "python",
   "name": "python3"
  },
  "language_info": {
   "codemirror_mode": {
    "name": "ipython",
    "version": 3
   },
   "file_extension": ".py",
   "mimetype": "text/x-python",
   "name": "python",
   "nbconvert_exporter": "python",
   "pygments_lexer": "ipython3",
   "version": "3.11.11"
  }
 },
 "nbformat": 4,
 "nbformat_minor": 2
}
